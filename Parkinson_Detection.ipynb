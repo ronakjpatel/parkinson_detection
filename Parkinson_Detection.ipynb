{
 "cells": [
  {
   "cell_type": "code",
   "execution_count": 2,
   "id": "4f9b2ee9",
   "metadata": {},
   "outputs": [],
   "source": [
    "from skimage import feature"
   ]
  },
  {
   "cell_type": "code",
   "execution_count": 3,
   "id": "a4dec324",
   "metadata": {},
   "outputs": [],
   "source": [
    "from sklearn.ensemble import RandomForestClassifier\n",
    "from sklearn.preprocessing import LabelEncoder\n",
    "from sklearn.metrics import confusion_matrix\n",
    "from imutils import build_montages\n",
    "from imutils import paths\n",
    "import numpy as np\n",
    "import cv2\n",
    "import argparse\n",
    "import os\n"
   ]
  },
  {
   "cell_type": "code",
   "execution_count": 12,
   "id": "54993ee6",
   "metadata": {},
   "outputs": [],
   "source": [
    "def ext_feature_img(image):\n",
    "    features = feature.hog(image,orientations=9,\n",
    "                          pixels_per_cell=(6,6),cells_per_block=(2,2),\n",
    "                          transform_sqrt=True, block_norm=\"L2\")\n",
    "    \n",
    "    "
   ]
  },
  {
   "cell_type": "code",
   "execution_count": 13,
   "id": "a0d4376b",
   "metadata": {},
   "outputs": [],
   "source": [
    "def loading_data(img_path):\n",
    "    \n",
    "    #making the list of the images dataset given the image path\n",
    "    image_paths = list(paths.list_images(img_path))\n",
    "    data= []\n",
    "    labels = []\n",
    "    \n",
    "    for i_path in image_paths:\n",
    "        #extracting the image label whether patient is healthy or with parkinson condition \n",
    "        #storing it into the list \n",
    "        label = i_path.split(os.path.sep)[-2]\n",
    "        \n",
    "        #fetching image\n",
    "        image = cv2.imread(i_path)\n",
    "        #transforming color image into the grayscale image and rescaling it to \n",
    "        image = cv2.cvtColor(image,cv2.COLOR_BGR2GRAY)\n",
    "        image = cv2.resize(image,(200,200))\n",
    "        image = cv2.threshold(image, 0, 255,\n",
    "                              cv2.THRESH_BINARY_INV | cv2.THRESH_OTSU)[1]\n",
    "        \n",
    "        features = ext_feature_img(image)\n",
    "        \n",
    "        # update the data and labels lists, respectively\n",
    "        data.append(features)\n",
    "        labels.append(label)\n",
    "        \n",
    "    return (np.array(data),np.array(labels))\n",
    "\n",
    "        \n",
    "    \n",
    "    cv2.imshow(image)\n",
    "\n",
    "    "
   ]
  },
  {
   "cell_type": "code",
   "execution_count": 14,
   "id": "f974ca84",
   "metadata": {},
   "outputs": [
    {
     "name": "stdout",
     "output_type": "stream",
     "text": [
      "(72,)\n"
     ]
    }
   ],
   "source": [
    "dataset = \"dataset/spiral\"\n",
    "\n",
    "testpath = os.path.sep.join([dataset,\"testing\"])\n",
    "trainpath = os.path.sep.join([dataset,\"training\"])\n",
    "\n",
    "(trainX, trainY) = loading_data(trainpath)\n",
    "(testX, testY) = loading_data(testpath)\n",
    "\n",
    "print(trainY.shape)\n",
    "\n",
    "                             "
   ]
  },
  {
   "cell_type": "code",
   "execution_count": 15,
   "id": "e616ce7f",
   "metadata": {},
   "outputs": [],
   "source": [
    "#encoding the labels into 0 and 1 using label encoder\n",
    "# encode the labels as integers\n",
    "le = LabelEncoder()\n",
    "trainY = le.fit_transform(trainY)\n",
    "testY = le.transform(testY)\n",
    "\n"
   ]
  },
  {
   "cell_type": "code",
   "execution_count": 8,
   "id": "3935f46b",
   "metadata": {},
   "outputs": [],
   "source": [
    "    "
   ]
  },
  {
   "cell_type": "code",
   "execution_count": null,
   "id": "1f58d510",
   "metadata": {},
   "outputs": [],
   "source": []
  }
 ],
 "metadata": {
  "kernelspec": {
   "display_name": "Python 3 (ipykernel)",
   "language": "python",
   "name": "python3"
  },
  "language_info": {
   "codemirror_mode": {
    "name": "ipython",
    "version": 3
   },
   "file_extension": ".py",
   "mimetype": "text/x-python",
   "name": "python",
   "nbconvert_exporter": "python",
   "pygments_lexer": "ipython3",
   "version": "3.9.4"
  }
 },
 "nbformat": 4,
 "nbformat_minor": 5
}
